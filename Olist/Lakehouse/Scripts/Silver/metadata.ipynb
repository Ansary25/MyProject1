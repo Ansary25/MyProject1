{
 "cells": [
  {
   "cell_type": "code",
   "execution_count": 0,
   "metadata": {
    "application/vnd.databricks.v1+cell": {
     "cellMetadata": {
      "byteLimit": 2048000,
      "rowLimit": 10000
     },
     "inputWidgets": {},
     "nuid": "19883691-58a6-4a9f-98dd-a3bebadd6466",
     "showTitle": false,
     "title": ""
    }
   },
   "outputs": [],
   "source": [
    "# Importing json module\n",
    "import json\n",
    "\n",
    "class ReadJson:\n",
    "\n",
    "    # Instantiating the class with file_location attribute\n",
    "    def __init__(self, file_location):\n",
    "        self.file_location = file_location\n",
    "\n",
    "    # Method to read the metadata JSON file from the specified file location\n",
    "    def get_metadata(self):\n",
    "\n",
    "        # Read the file using dbutils.fs.head\n",
    "        file_contents = dbutils.fs.head(self.file_location)\n",
    "\n",
    "        # Parse the JSON string using the json module\n",
    "        metadata = json.loads(file_contents)\n",
    "\n",
    "        silver_meta = metadata[\"silver\"]\n",
    "\n",
    "        return silver_meta"
   ]
  }
 ],
 "metadata": {
  "application/vnd.databricks.v1+notebook": {
   "dashboards": [],
   "environmentMetadata": null,
   "language": "python",
   "notebookMetadata": {
    "pythonIndentUnit": 4
   },
   "notebookName": "metadata",
   "widgets": {}
  }
 },
 "nbformat": 4,
 "nbformat_minor": 0
}
