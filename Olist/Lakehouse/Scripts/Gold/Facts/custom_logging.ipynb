{
 "cells": [
  {
   "cell_type": "code",
   "execution_count": 0,
   "metadata": {
    "application/vnd.databricks.v1+cell": {
     "cellMetadata": {
      "byteLimit": 2048000,
      "rowLimit": 10000
     },
     "inputWidgets": {},
     "nuid": "15dc88f4-ccb3-4f16-bbd0-37408caa1792",
     "showTitle": false,
     "title": ""
    }
   },
   "outputs": [],
   "source": [
    "# Importing required modules\n",
    "import logging\n",
    "import time\n",
    "import datetime"
   ]
  },
  {
   "cell_type": "code",
   "execution_count": 0,
   "metadata": {
    "application/vnd.databricks.v1+cell": {
     "cellMetadata": {
      "byteLimit": 2048000,
      "rowLimit": 10000
     },
     "inputWidgets": {},
     "nuid": "28072f0a-f36a-4b9a-bce8-e766ee7b2fd7",
     "showTitle": false,
     "title": ""
    }
   },
   "outputs": [],
   "source": [
    "class CustomLogger:\n",
    "    \n",
    "    # Method for configuring custom logger\n",
    "    def custom_logger(self, job_name):\n",
    "\n",
    "        # Creating log_date_time variable with time and datetime functions\n",
    "        log_time_date = datetime.datetime.fromtimestamp(time.time()).strftime(\"%Y-%m-%d-%H-%M-%S\")\n",
    "\n",
    "        # Logger name & level configurations\n",
    "        logger = logging.getLogger(__name__)\n",
    "        logger.setLevel(logging.INFO)\n",
    "        log_file = f\"{job_name}_{log_time_date}.log\"\n",
    "\n",
    "        # Logger format & file handler configurations\n",
    "        f = logging.Formatter('%(asctime)s - %(levelname)s - %(name)s - %(message)s')\n",
    "        fh = logging.FileHandler(f\"/dbfs/{log_file}\")\n",
    "        fh.setFormatter(f)\n",
    "\n",
    "        # Clearing any existing log handlers\n",
    "        if logger.hasHandlers():\n",
    "            logger.handlers.clear()\n",
    "        \n",
    "        # Adding handler to logger\n",
    "        logger.addHandler(fh)\n",
    "\n",
    "        return logger, log_file"
   ]
  }
 ],
 "metadata": {
  "application/vnd.databricks.v1+notebook": {
   "dashboards": [],
   "environmentMetadata": null,
   "language": "python",
   "notebookMetadata": {
    "pythonIndentUnit": 4
   },
   "notebookName": "custom_logging",
   "widgets": {}
  }
 },
 "nbformat": 4,
 "nbformat_minor": 0
}
